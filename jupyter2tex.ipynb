{
 "cells": [
  {
   "cell_type": "code",
   "execution_count": 1,
   "metadata": {},
   "outputs": [
    {
     "name": "stdout",
     "output_type": "stream",
     "text": [
      "Collecting jupyter-notebook-parser\n",
      "  Downloading jupyter_notebook_parser-0.1.4-py2.py3-none-any.whl (5.3 kB)\n",
      "Installing collected packages: jupyter-notebook-parser\n",
      "Successfully installed jupyter-notebook-parser-0.1.4\n"
     ]
    }
   ],
   "source": [
    "!pip install jupyter-notebook-parser"
   ]
  },
  {
   "cell_type": "code",
   "execution_count": 33,
   "metadata": {},
   "outputs": [],
   "source": [
    "from jupyter_notebook_parser import JupyterNotebookParser"
   ]
  },
  {
   "cell_type": "code",
   "execution_count": 34,
   "metadata": {},
   "outputs": [],
   "source": [
    "parsed = JupyterNotebookParser('sample.ipynb')\n",
    "all_markdown_lines = [y for x in parsed.get_markdown_cell_sources() for y in x.split('\\n')]"
   ]
  },
  {
   "cell_type": "code",
   "execution_count": 31,
   "metadata": {},
   "outputs": [],
   "source": [
    "# Define a function to convert a list of lines from Markdown to LaTeX\n",
    "def preprocess(line):\n",
    "    # replace any *_* with *\\_*\n",
    "    line = line.replace('_','\\_')\n",
    "    return line\n",
    "\n",
    "def markdown_to_latex(lines):\n",
    "    latex_lines = ['\\\\documentclass{article}\\n\\\\usepackage{graphicx}\\n\\\\begin{document}']\n",
    "    began_verbatim = False\n",
    "    for line in lines:\n",
    "        if not began_verbatim:\n",
    "            line = preprocess(line)\n",
    "        # Convert headers\n",
    "        if line.startswith('# '):\n",
    "            latex_lines.append('\\\\section{' + line[2:] + '}')\n",
    "        elif line.startswith('## '):\n",
    "            latex_lines.append('\\\\subsection{' + line[3:] + '}')\n",
    "        elif line.startswith('### '):\n",
    "            latex_lines.append('\\\\subsubsection{' + line[4:] + '}')\n",
    "        # Convert code blocks\n",
    "        elif line.startswith('```'):\n",
    "            if latex_lines and began_verbatim:\n",
    "                latex_lines.append('\\\\end{verbatim}')\n",
    "                began_verbatim = False\n",
    "            else:\n",
    "                latex_lines.append('\\\\begin{verbatim}')\n",
    "                began_verbatim = True\n",
    "        else:\n",
    "            latex_lines.append(line)\n",
    "    latex_lines.append('\\\\end{document}')\n",
    "    return latex_lines"
   ]
  },
  {
   "cell_type": "code",
   "execution_count": 35,
   "metadata": {},
   "outputs": [],
   "source": [
    "latex_lines = markdown_to_latex(all_markdown_lines)\n",
    "print(*latex_lines, sep='\\n', file=open('latex.tex', 'w'))"
   ]
  },
  {
   "cell_type": "code",
   "execution_count": 36,
   "metadata": {},
   "outputs": [
    {
     "name": "stdout",
     "output_type": "stream",
     "text": [
      "This is pdfTeX, Version 3.141592653-2.6-1.40.25 (TeX Live 2023) (preloaded format=pdflatex)\n",
      " restricted \\write18 enabled.\n",
      "entering extended mode\n",
      "(./latex.tex\n",
      "LaTeX2e <2022-11-01> patch level 1\n",
      "L3 programming layer <2023-02-22>\n",
      "(/usr/local/texlive/2023/texmf-dist/tex/latex/base/article.cls\n",
      "Document Class: article 2022/07/02 v1.4n Standard LaTeX document class\n",
      "(/usr/local/texlive/2023/texmf-dist/tex/latex/base/size10.clo))\n",
      "(/usr/local/texlive/2023/texmf-dist/tex/latex/graphics/graphicx.sty\n",
      "(/usr/local/texlive/2023/texmf-dist/tex/latex/graphics/keyval.sty)\n",
      "(/usr/local/texlive/2023/texmf-dist/tex/latex/graphics/graphics.sty\n",
      "(/usr/local/texlive/2023/texmf-dist/tex/latex/graphics/trig.sty)\n",
      "(/usr/local/texlive/2023/texmf-dist/tex/latex/graphics-cfg/graphics.cfg)\n",
      "(/usr/local/texlive/2023/texmf-dist/tex/latex/graphics-def/pdftex.def)))\n",
      "(/usr/local/texlive/2023/texmf-dist/tex/latex/l3backend/l3backend-pdftex.def)\n",
      "(./latex.aux)\n",
      "(/usr/local/texlive/2023/texmf-dist/tex/context/base/mkii/supp-pdf.mkii\n",
      "[Loading MPS to PDF converter (version 2006.09.02).]\n",
      ") (/usr/local/texlive/2023/texmf-dist/tex/latex/epstopdf-pkg/epstopdf-base.sty\n",
      "(/usr/local/texlive/2023/texmf-dist/tex/latex/latexconfig/epstopdf-sys.cfg))\n",
      "[1{/usr/local/texlive/2023/texmf-var/fonts/map/pdftex/updmap/pdftex.map}]\n",
      "[2] (./latex.aux) )</usr/local/texlive/2023/texmf-dist/fonts/type1/public/amsfo\n",
      "nts/cm/cmbx12.pfb></usr/local/texlive/2023/texmf-dist/fonts/type1/public/amsfon\n",
      "ts/cm/cmmi10.pfb></usr/local/texlive/2023/texmf-dist/fonts/type1/public/amsfont\n",
      "s/cm/cmr10.pfb></usr/local/texlive/2023/texmf-dist/fonts/type1/public/amsfonts/\n",
      "cm/cmsy10.pfb></usr/local/texlive/2023/texmf-dist/fonts/type1/public/amsfonts/c\n",
      "m/cmtt10.pfb>\n",
      "Output written on latex.pdf (2 pages, 64832 bytes).\n",
      "Transcript written on latex.log.\n"
     ]
    }
   ],
   "source": [
    "!pdflatex latex.tex"
   ]
  }
 ],
 "metadata": {
  "kernelspec": {
   "display_name": "base",
   "language": "python",
   "name": "python3"
  },
  "language_info": {
   "codemirror_mode": {
    "name": "ipython",
    "version": 3
   },
   "file_extension": ".py",
   "mimetype": "text/x-python",
   "name": "python",
   "nbconvert_exporter": "python",
   "pygments_lexer": "ipython3",
   "version": "3.11.4"
  },
  "orig_nbformat": 4
 },
 "nbformat": 4,
 "nbformat_minor": 2
}
