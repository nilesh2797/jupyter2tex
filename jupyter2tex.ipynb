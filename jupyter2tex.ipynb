{
 "cells": [
  {
   "cell_type": "code",
   "execution_count": 1,
   "metadata": {},
   "outputs": [
    {
     "name": "stdout",
     "output_type": "stream",
     "text": [
      "Collecting jupyter-notebook-parser\n",
      "  Downloading jupyter_notebook_parser-0.1.4-py2.py3-none-any.whl (5.3 kB)\n",
      "Installing collected packages: jupyter-notebook-parser\n",
      "Successfully installed jupyter-notebook-parser-0.1.4\n"
     ]
    }
   ],
   "source": [
    "!pip install jupyter-notebook-parser"
   ]
  },
  {
   "cell_type": "code",
   "execution_count": 4,
   "metadata": {},
   "outputs": [
    {
     "data": {
      "text/plain": [
       "[{'cell_type': 'markdown',\n",
       "  'metadata': {},\n",
       "  'source': ['# Title\\n',\n",
       "   '## Abstract\\n',\n",
       "   'The goal of this project is to implement a simple and efficient algorithm to solve the problem of finding the maximum subarray sum in a given array of integers. The algorithm is based on the divide and conquer paradigm and has a time complexity of O(n log n). The algorithm is implemented in Python and tested on a variety of test cases to ensure its correctness and efficiency. The results show that the algorithm is able to find the maximum subarray sum in a given array of integers in a reasonable amount of time.']},\n",
       " {'cell_type': 'markdown',\n",
       "  'metadata': {},\n",
       "  'source': ['## Introduction\\n',\n",
       "   'The maximum subarray sum problem is a classic problem in computer science that involves finding the maximum sum of a contiguous subarray in a given array of integers. The problem can be solved using a variety of algorithms, including brute force, divide and conquer, and dynamic programming. In this project, we implement a simple and efficient algorithm based on the divide and conquer paradigm to solve the maximum subarray sum problem. The algorithm has a time complexity of O(n log n) and is implemented in Python. We test the algorithm on a variety of test cases to ensure its correctness and efficiency.']},\n",
       " {'cell_type': 'markdown',\n",
       "  'metadata': {},\n",
       "  'source': ['## Methodology\\n',\n",
       "   'The algorithm is based on the divide and conquer paradigm and works as follows:\\n',\n",
       "   '1. Divide the array into two halves.\\n',\n",
       "   '2. Recursively find the maximum subarray sum in the left half, right half, and the subarray that crosses the midpoint.\\n',\n",
       "   '3. Return the maximum of the three sums.\\n',\n",
       "   '\\n',\n",
       "   'The algorithm is implemented in Python as follows:\\n',\n",
       "   '```python\\n',\n",
       "   'def max_subarray_sum(arr, low, high):\\n',\n",
       "   '    if low == high:\\n',\n",
       "   '        return arr[low]\\n',\n",
       "   '    \\n',\n",
       "   '    mid = (low + high) // 2\\n',\n",
       "   '    \\n',\n",
       "   '    left_sum = max_subarray_sum(arr, low, mid)\\n',\n",
       "   '    right_sum = max_subarray_sum(arr, mid + 1, high)\\n',\n",
       "   '    cross_sum = max_crossing_sum(arr, low, mid, high)\\n',\n",
       "   '    \\n',\n",
       "   '    return max(left_sum, right_sum, cross_sum)\\n',\n",
       "   '```\\n',\n",
       "   'The `max_crossing_sum` function is used to find the maximum subarray sum that crosses the midpoint of the array. It is implemented as follows:\\n',\n",
       "   '```python\\n',\n",
       "   'def max_crossing_sum(arr, low, mid, high):\\n',\n",
       "   \"    left_sum = float('-inf')\\n\",\n",
       "   '    sum = 0\\n',\n",
       "   '    for i in range(mid, low - 1, -1):\\n',\n",
       "   '        sum += arr[i]\\n',\n",
       "   '        left_sum = max(left_sum, sum)\\n',\n",
       "   '    \\n',\n",
       "   \"    right_sum = float('-inf')\\n\",\n",
       "   '    sum = 0\\n',\n",
       "   '    for i in range(mid + 1, high + 1):\\n',\n",
       "   '        sum += arr[i]\\n',\n",
       "   '        right_sum = max(right_sum, sum)\\n',\n",
       "   '    \\n',\n",
       "   '    return left_sum + right_sum\\n',\n",
       "   '```']}]"
      ]
     },
     "execution_count": 4,
     "metadata": {},
     "output_type": "execute_result"
    }
   ],
   "source": [
    "from jupyter_notebook_parser import JupyterNotebookParser\n",
    "\n",
    "\n",
    "parsed = JupyterNotebookParser('sample.ipynb')\n",
    "\n",
    "parsed.get_all_cells()  # returns List[Dict], each Dict is a notebook cell\n",
    "\n",
    "parsed.get_markdown_cells()  # returns List[Dict], each Dict is a markdown cel\n",
    "parsed.get_markdown_cell_indices()  # returns List[int], each is a markdown cell's index\n",
    "parsed.get_markdown_cell_sources()  # returns List[str], each is a markdown cell's text\n",
    "\n",
    "parsed.get_code_cells()  # returns List[Dict], each Dict is a code cell\n",
    "parsed.get_code_cell_indices()  # returns List[int], each int is a code cell's index\n",
    "parsed.get_code_cell_sources()  # returns List[SourceCodeContainer]\n",
    "\n",
    "# source = parsed.get_code_cell_sources()[0]\n",
    "# source.raw_source  # str\n",
    "# source.source_without_magic  # str (all ipython magics excluded)\n",
    "# source.magics  # Dict[int, str] (all magics, from line number to magic text)\n",
    "\n",
    "parsed.get_markdown_cells()"
   ]
  },
  {
   "cell_type": "code",
   "execution_count": 28,
   "metadata": {},
   "outputs": [],
   "source": [
    "# Define a function to convert a list of lines from Markdown to LaTeX\n",
    "def preprocess(line):\n",
    "    # replace any *_* with *\\_*\n",
    "    line = line.replace('_','\\_')\n",
    "    return line\n",
    "\n",
    "def markdown_to_latex(lines):\n",
    "    latex_lines = ['\\\\documentclass{article}\\n\\\\usepackage{graphicx}\\n\\\\begin{document}']\n",
    "    began_verbatim = False\n",
    "    for line in lines:\n",
    "        if not began_verbatim:\n",
    "            line = preprocess(line)\n",
    "        # Convert headers\n",
    "        if line.startswith('# '):\n",
    "            latex_lines.append('\\\\section{' + line[2:] + '}')\n",
    "        elif line.startswith('## '):\n",
    "            latex_lines.append('\\\\subsection{' + line[3:] + '}')\n",
    "        elif line.startswith('### '):\n",
    "            latex_lines.append('\\\\subsubsection{' + line[4:] + '}')\n",
    "        # Convert code blocks\n",
    "        elif line.startswith('```'):\n",
    "            if latex_lines and began_verbatim:\n",
    "                latex_lines.append('\\\\end{verbatim}')\n",
    "                began_verbatim = False\n",
    "            else:\n",
    "                latex_lines.append('\\\\begin{verbatim}')\n",
    "                began_verbatim = True\n",
    "        else:\n",
    "            latex_lines.append(line)\n",
    "    latex_lines.append('\\\\end{document}')\n",
    "    return latex_lines"
   ]
  },
  {
   "cell_type": "code",
   "execution_count": 29,
   "metadata": {},
   "outputs": [],
   "source": [
    "all_markdown_lines = [y for x in parsed.get_markdown_cell_sources() for y in x.split('\\n')]"
   ]
  },
  {
   "cell_type": "code",
   "execution_count": 30,
   "metadata": {},
   "outputs": [],
   "source": [
    "latex_lines = markdown_to_latex(all_markdown_lines)\n",
    "print(*latex_lines, sep='\\n', file=open('latex.tex', 'w'))"
   ]
  }
 ],
 "metadata": {
  "kernelspec": {
   "display_name": "base",
   "language": "python",
   "name": "python3"
  },
  "language_info": {
   "codemirror_mode": {
    "name": "ipython",
    "version": 3
   },
   "file_extension": ".py",
   "mimetype": "text/x-python",
   "name": "python",
   "nbconvert_exporter": "python",
   "pygments_lexer": "ipython3",
   "version": "3.11.4"
  },
  "orig_nbformat": 4
 },
 "nbformat": 4,
 "nbformat_minor": 2
}
