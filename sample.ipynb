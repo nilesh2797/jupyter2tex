{
 "cells": [
  {
   "cell_type": "markdown",
   "metadata": {},
   "source": [
    "# Title\n",
    "## Abstract\n",
    "The goal of this project is to implement a simple and efficient algorithm to solve the problem of finding the maximum subarray sum in a given array of integers. The algorithm is based on the divide and conquer paradigm and has a time complexity of O(n log n). The algorithm is implemented in Python and tested on a variety of test cases to ensure its correctness and efficiency. The results show that the algorithm is able to find the maximum subarray sum in a given array of integers in a reasonable amount of time."
   ]
  },
  {
   "cell_type": "markdown",
   "metadata": {},
   "source": [
    "## Introduction\n",
    "The maximum subarray sum problem is a classic problem in computer science that involves finding the maximum sum of a contiguous subarray in a given array of integers. The problem can be solved using a variety of algorithms, including brute force, divide and conquer, and dynamic programming. In this project, we implement a simple and efficient algorithm based on the divide and conquer paradigm to solve the maximum subarray sum problem. The algorithm has a time complexity of O(n log n) and is implemented in Python. We test the algorithm on a variety of test cases to ensure its correctness and efficiency."
   ]
  },
  {
   "cell_type": "markdown",
   "metadata": {},
   "source": [
    "## Methodology\n",
    "The algorithm is based on the divide and conquer paradigm and works as follows:\n",
    "1. Divide the array into two halves.\n",
    "2. Recursively find the maximum subarray sum in the left half, right half, and the subarray that crosses the midpoint.\n",
    "3. Return the maximum of the three sums.\n",
    "\n",
    "The algorithm is implemented in Python as follows:\n",
    "```python\n",
    "def max_subarray_sum(arr, low, high):\n",
    "    if low == high:\n",
    "        return arr[low]\n",
    "    \n",
    "    mid = (low + high) // 2\n",
    "    \n",
    "    left_sum = max_subarray_sum(arr, low, mid)\n",
    "    right_sum = max_subarray_sum(arr, mid + 1, high)\n",
    "    cross_sum = max_crossing_sum(arr, low, mid, high)\n",
    "    \n",
    "    return max(left_sum, right_sum, cross_sum)\n",
    "```\n",
    "The `max_crossing_sum` function is used to find the maximum subarray sum that crosses the midpoint of the array. It is implemented as follows:\n",
    "```python\n",
    "def max_crossing_sum(arr, low, mid, high):\n",
    "    left_sum = float('-inf')\n",
    "    sum = 0\n",
    "    for i in range(mid, low - 1, -1):\n",
    "        sum += arr[i]\n",
    "        left_sum = max(left_sum, sum)\n",
    "    \n",
    "    right_sum = float('-inf')\n",
    "    sum = 0\n",
    "    for i in range(mid + 1, high + 1):\n",
    "        sum += arr[i]\n",
    "        right_sum = max(right_sum, sum)\n",
    "    \n",
    "    return left_sum + right_sum\n",
    "```\n",
    "\n",
    "Complexity of this algorithm is $\\mathcal{O}(n \\log n)$."
   ]
  }
 ],
 "metadata": {
  "language_info": {
   "name": "python"
  },
  "orig_nbformat": 4
 },
 "nbformat": 4,
 "nbformat_minor": 2
}
