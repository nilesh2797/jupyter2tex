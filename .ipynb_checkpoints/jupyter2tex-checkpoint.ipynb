{
 "cells": [
  {
   "cell_type": "code",
   "execution_count": 25,
   "metadata": {},
   "outputs": [
    {
     "name": "stdout",
     "output_type": "stream",
     "text": [
      "Requirement already satisfied: jupyter-notebook-parser in /Users/adityaparulekar/anaconda3/lib/python3.10/site-packages (0.1.4)\r\n"
     ]
    }
   ],
   "source": [
    "!pip install jupyter-notebook-parser"
   ]
  },
  {
   "cell_type": "code",
   "execution_count": 26,
   "metadata": {},
   "outputs": [],
   "source": [
    "from jupyter_notebook_parser import JupyterNotebookParser"
   ]
  },
  {
   "cell_type": "code",
   "execution_count": 27,
   "metadata": {},
   "outputs": [],
   "source": [
    "parsed = JupyterNotebookParser('sample.ipynb')\n",
    "all_markdown_lines = [y for x in parsed.get_markdown_cell_sources() for y in x.split('\\n')]"
   ]
  },
  {
   "cell_type": "code",
   "execution_count": 29,
   "metadata": {},
   "outputs": [],
   "source": [
    "# Define a function to convert a list of lines from Markdown to LaTeX\n",
    "import re\n",
    "\n",
    "enum_i = []\n",
    "\n",
    "def count_spaces(l):\n",
    "    ret = 0\n",
    "    first = 0\n",
    "    for i in range(len(l)):\n",
    "        if l[i] == ' ':\n",
    "            ret += 1\n",
    "        elif l[i] == '\\t':\n",
    "            ret += 4\n",
    "        else:\n",
    "            break\n",
    "        first += 1\n",
    "    return ret // 4, l[first:]\n",
    "def preprocess(line):\n",
    "    global enum_i\n",
    "    # replace any *_* with *\\_*\n",
    "    line = line.replace('_','\\_')\n",
    "    # replace anything within ** with \\textbf{...}\n",
    "    # BOLD AND ITALIC\n",
    "    line = re.sub(r'\\*\\*(.*?)\\*\\*', r'\\\\textbf{\\1}', line)\n",
    "    line = re.sub(r'\\*(.*?)\\*', r'\\\\textit{\\1}', line)\n",
    "\n",
    "    # ENUMERATE\n",
    "    pre = []\n",
    "    level, l = count_spaces(line)\n",
    "    print(\"ENUM_I\", enum_i, \"LEVEL\", level, l)\n",
    "    if '.' in l:\n",
    "        l_s = l.split('.')\n",
    "        l_num = l_s[0]\n",
    "        if l_num.isnumeric():\n",
    "            l_rest = '.'.join(l_s[1:])\n",
    "            if level == len(enum_i) + 1 or len(enum_i) == 0:\n",
    "                print(\"WAS HERE\")\n",
    "                if l_num == '1':\n",
    "                    enum_i.append(1)\n",
    "                    return '\\\\begin{enumerate} \\n' + '\\item ' + l_rest\n",
    "                else:\n",
    "                    return line\n",
    "            elif level <= len(enum_i):\n",
    "                print(\"WAS HERE INSTEAD\")\n",
    "                p = []\n",
    "                for i in range(level, len(enum_i)-1):\n",
    "                    p.append('\\\\end{enumerate}')\n",
    "                return '\\n'.join(p) + '\\item ' + l_rest\n",
    "        else:\n",
    "            for i in range(len(enum_i)):\n",
    "                pre.append('\\\\end{enumerate}')\n",
    "            enum_i = []\n",
    "\n",
    "    elif len(enum_i) > 0:\n",
    "        for i in range(len(enum_i)):\n",
    "            pre.append('\\\\end{enumerate}')\n",
    "        enum_i = []\n",
    "    \n",
    "    # ELSE\n",
    "    return '\\n'.join(pre) + line\n",
    "\n",
    "def markdown_to_latex(lines):\n",
    "    latex_lines = ['\\\\documentclass{article}\\n\\\\usepackage{graphicx}\\n\\\\begin{document}']\n",
    "    began_verbatim = False\n",
    "    for line in lines:\n",
    "        if not began_verbatim:\n",
    "            line = preprocess(line)\n",
    "        # Convert headers\n",
    "        if line.startswith('# '):\n",
    "            latex_lines.append('\\\\section{' + line[2:] + '}')\n",
    "        elif line.startswith('## '):\n",
    "            latex_lines.append('\\\\subsection{' + line[3:] + '}')\n",
    "        elif line.startswith('### '):\n",
    "            latex_lines.append('\\\\subsubsection{' + line[4:] + '}')\n",
    "        # Convert code blocks\n",
    "        elif line.startswith('```'):\n",
    "            if latex_lines and began_verbatim:\n",
    "                latex_lines.append('\\\\end{verbatim}')\n",
    "                began_verbatim = False\n",
    "            else:\n",
    "                latex_lines.append('\\\\begin{verbatim}')\n",
    "                began_verbatim = True\n",
    "        else:\n",
    "            latex_lines.append(line)\n",
    "    latex_lines.append('\\\\end{document}')\n",
    "    return latex_lines"
   ]
  },
  {
   "cell_type": "code",
   "execution_count": 30,
   "metadata": {},
   "outputs": [
    {
     "name": "stdout",
     "output_type": "stream",
     "text": [
      "ENUM_I [] LEVEL 0 # Title\n",
      "ENUM_I [] LEVEL 0 ## Abstract\n",
      "ENUM_I [] LEVEL 0 The goal of this project is to implement a simple and efficient algorithm to solve the problem of finding the maximum subarray sum in a given array of integers. The algorithm is based on the divide and conquer paradigm and has a time complexity of O(n log n). The algorithm is implemented in Python and tested on a variety of test cases to ensure its correctness and efficiency. The results show that the algorithm is able to find the maximum subarray sum in a given array of integers in a reasonable amount of time.\n",
      "NUM The goal of this project is to implement a simple and efficient algorithm to solve the problem of finding the maximum subarray sum in a given array of integers\n",
      "ENUM_I [] LEVEL 0 ## Introduction\n",
      "ENUM_I [] LEVEL 0 The maximum subarray sum problem is a classic problem in computer science that involves finding the maximum sum of a contiguous subarray in a given array of integers. The problem can be solved using a variety of algorithms, including brute force, divide and conquer, and dynamic programming. In this project, we implement a simple and efficient algorithm based on the divide and conquer paradigm to solve the maximum subarray sum problem. The algorithm has a time complexity of O(n log n) and is implemented in Python. We test the algorithm on a variety of test cases to ensure its correctness and efficiency.\n",
      "NUM The maximum subarray sum problem is a classic problem in computer science that involves finding the maximum sum of a contiguous subarray in a given array of integers\n",
      "ENUM_I [] LEVEL 0 ## Methodology\n",
      "ENUM_I [] LEVEL 0 The \\textbf{algorithm} is based on the \\textit{divide} and \\textit{conquer} paradigm and works as follows:\n",
      "ENUM_I [] LEVEL 0 1. Divide the array into two halves.\n",
      "NUM 1\n",
      "WAS HERE\n",
      "ENUM_I [1] LEVEL 0 2. Recursively find the maximum subarray sum in the left half, right half, and the subarray that crosses the midpoint.\n",
      "NUM 2\n",
      "WAS HERE INSTEAD\n",
      "ENUM_I [1] LEVEL 1 1. hello\n",
      "NUM 1\n",
      "WAS HERE INSTEAD\n",
      "ENUM_I [1] LEVEL 1 2. its me\n",
      "NUM 2\n",
      "WAS HERE INSTEAD\n",
      "ENUM_I [1] LEVEL 0 3. Return the maximum of the three sums.\n",
      "NUM 3\n",
      "WAS HERE INSTEAD\n",
      "ENUM_I [1] LEVEL 0 \n",
      "ENUM_I [] LEVEL 0 The algorithm is implemented in Python as follows:\n",
      "ENUM_I [] LEVEL 0 ```python\n",
      "ENUM_I [] LEVEL 0 The `max\\_crossing\\_sum` function is used to find the maximum subarray sum that crosses the midpoint of the array. It is implemented as follows:\n",
      "NUM The `max\\_crossing\\_sum` function is used to find the maximum subarray sum that crosses the midpoint of the array\n",
      "ENUM_I [] LEVEL 0 ```python\n",
      "ENUM_I [] LEVEL 0 \n",
      "ENUM_I [] LEVEL 0 Complexity of this algorithm is $\\mathcal{O}(n \\log n)$.\n",
      "NUM Complexity of this algorithm is $\\mathcal{O}(n \\log n)$\n",
      "ENUM_I [] LEVEL 0 \n"
     ]
    }
   ],
   "source": [
    "latex_lines = markdown_to_latex(all_markdown_lines)\n",
    "print(*latex_lines, sep='\\n', file=open('latex.tex', 'w'))"
   ]
  },
  {
   "cell_type": "code",
   "execution_count": 10,
   "metadata": {},
   "outputs": [
    {
     "name": "stdout",
     "output_type": "stream",
     "text": [
      "This is pdfTeX, Version 3.141592653-2.6-1.40.22 (TeX Live 2021) (preloaded format=pdflatex)\n",
      " restricted \\write18 enabled.\n",
      "entering extended mode\n",
      "(./latex.tex\n",
      "LaTeX2e <2020-10-01> patch level 4\n",
      "L3 programming layer <2021-02-18>\n",
      "(/usr/local/texlive/2021/texmf-dist/tex/latex/base/article.cls\n",
      "Document Class: article 2020/04/10 v1.4m Standard LaTeX document class\n",
      "(/usr/local/texlive/2021/texmf-dist/tex/latex/base/size10.clo))\n",
      "(/usr/local/texlive/2021/texmf-dist/tex/latex/graphics/graphicx.sty\n",
      "(/usr/local/texlive/2021/texmf-dist/tex/latex/graphics/keyval.sty)\n",
      "(/usr/local/texlive/2021/texmf-dist/tex/latex/graphics/graphics.sty\n",
      "(/usr/local/texlive/2021/texmf-dist/tex/latex/graphics/trig.sty)\n",
      "(/usr/local/texlive/2021/texmf-dist/tex/latex/graphics-cfg/graphics.cfg)\n",
      "(/usr/local/texlive/2021/texmf-dist/tex/latex/graphics-def/pdftex.def)))\n",
      "(/usr/local/texlive/2021/texmf-dist/tex/latex/l3backend/l3backend-pdftex.def)\n",
      "(./latex.aux)\n",
      "(/usr/local/texlive/2021/texmf-dist/tex/context/base/mkii/supp-pdf.mkii\n",
      "[Loading MPS to PDF converter (version 2006.09.02).]\n",
      ") (/usr/local/texlive/2021/texmf-dist/tex/latex/epstopdf-pkg/epstopdf-base.sty\n",
      "(/usr/local/texlive/2021/texmf-dist/tex/latex/latexconfig/epstopdf-sys.cfg))\n",
      "[1{/usr/local/texlive/2021/texmf-var/fonts/map/pdftex/updmap/pdftex.map}]\n",
      "[2] (./latex.aux) )</usr/local/texlive/2021/texmf-dist/fonts/type1/public/amsfo\n",
      "nts/cm/cmbx10.pfb></usr/local/texlive/2021/texmf-dist/fonts/type1/public/amsfon\n",
      "ts/cm/cmbx12.pfb></usr/local/texlive/2021/texmf-dist/fonts/type1/public/amsfont\n",
      "s/cm/cmmi10.pfb></usr/local/texlive/2021/texmf-dist/fonts/type1/public/amsfonts\n",
      "/cm/cmr10.pfb></usr/local/texlive/2021/texmf-dist/fonts/type1/public/amsfonts/c\n",
      "m/cmsy10.pfb></usr/local/texlive/2021/texmf-dist/fonts/type1/public/amsfonts/cm\n",
      "/cmti10.pfb></usr/local/texlive/2021/texmf-dist/fonts/type1/public/amsfonts/cm/\n",
      "cmtt10.pfb>\n",
      "Output written on latex.pdf (2 pages, 81071 bytes).\n",
      "Transcript written on latex.log.\n"
     ]
    }
   ],
   "source": [
    "!pdflatex latex.tex"
   ]
  },
  {
   "cell_type": "code",
   "execution_count": null,
   "metadata": {},
   "outputs": [],
   "source": []
  }
 ],
 "metadata": {
  "kernelspec": {
   "display_name": "Python 3 (ipykernel)",
   "language": "python",
   "name": "python3"
  },
  "language_info": {
   "codemirror_mode": {
    "name": "ipython",
    "version": 3
   },
   "file_extension": ".py",
   "mimetype": "text/x-python",
   "name": "python",
   "nbconvert_exporter": "python",
   "pygments_lexer": "ipython3",
   "version": "3.10.9"
  }
 },
 "nbformat": 4,
 "nbformat_minor": 2
}
