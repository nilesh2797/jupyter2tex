{
 "cells": [
  {
   "cell_type": "code",
   "execution_count": 1,
   "metadata": {},
   "outputs": [],
   "source": [
    "from jupyter2tex import setup\n",
    "\n",
    "# setup.format(\"./style.sty\")\n",
    "\n",
    "title = \"A Jupyter to Latex Transpiler for Easy Paper Writing\"\n",
    "authors = [\"Nilesh Gupta\", \"Aditya Parulekar\"]\n",
    "abstract = \"\"\"Most papers these days are written in \\LaTeX, a mathematical typesetting system. However, \\LaTeX is a little limited since you can't easily define and use variables to dynamically generate tables and plots. To do so, users are forced to rely on other sources, such as python scripts that generate tables or plots, save the outputs of these scripts to image files, and then statically import them into their manuscripts. This is often a time-consuming process, and requires many different systems to be run in sequence. This work aims to streamline this process by allowing the user to work entirely within an IPython notebook to create a \\LaTeX pdf output.\"\"\"\n",
    "setup(title=title, authors = authors, abstract = abstract)"
   ]
  },
  {
   "cell_type": "markdown",
   "metadata": {},
   "source": [
    "# Introduction\n",
    "Jupyter Notebooks are an indispensable tool for machine learning (ML) practitioners, allowing for the integration of live code, equations, visualizations, and text in a single document. However, when it comes to publishing research, the manuscript is published in a specifically formatted PDF (required by conferences like NeurIPS). With this project, we aim to build a transpiler that can take a jupyter notebook with an extended syntax and automatically convert it into a formatted PDF (more specifically, a given conference format). This will enable researchers to streamline the process of writing and embedding dynamic contents of a research document (such as plots, tables, AI-generated output, code, etc) into the final conference-ready PDF in a seamless way.\n",
    "\n",
    "## Motivation\n",
    "When writing papers for ML conferences, figures and tables containing experiment data are obviously very important, both for displaying the main results of the work and for aiding the exposition of the paper. Therefore, the exact form and details of these figures are often a matter of intense scrutiny from all of the authors of the paper. This often leads to many rounds of iterating and reiterating on the figures, which leads to a lot of back and forth between multiple platforms: the python script that was used to generate the data, the plotting tool to create the figure, and then copying the figure over into the file system of the latex editor being used. This is a tedious process. Here, we propose the use of a single platform, in this case, Jupyter Notebooks (commonly used as the coding/plotting platform), which is then directly converted into a final Latex document/PDF that is styled to the appropriate conference's style file. Moreover, with the rising capabilities of AI assistant tools, one can also potentially directly incorporate their outputs in the final PDF.\n",
    "\n",
    "## Features and API\n",
    "Since the whole point of this project was to streamline the writing process, we wanted to minimize the number of issues that the user would run into while doing most standard things. To this end, we wanted to ensure a few things:\n",
    "1. We wanted to implement most common features used by \\LaTeX, including things like enumeration and itemization, code blocks, math mode (of course), section headings, subsection headings, etc. To do this, we consulted markdown guides and implemented most features that are available to the user there.\n",
    "2. We also wanted to make sure that the notebook that was being used to create the pdf was still runnable. That is, the user could entirely work in that notebook, without having to run our tool in intermediate stages to check the outputs of certain figures. \n",
    "3. We wanted the API to be simple and easy to understand\n",
    "\n",
    "Following these guidelines, here is a full list of features we have implemented:\n",
    "\n",
    "1. Sections, subsections, subsubsections.\n",
    "2. Code blocks\n",
    "3. **Boldface**, *italics*, and math mode (like: $x^2 + 3 = 42$)\n",
    "    1. both inline math and $$dX_t = (-f(x) + \\nabla s_t(X_t)) dt + dB_t\\qquad \\text{display style}$$\n",
    "4. Enumeration and Itemization, including nested enumerations and nested itemizations\n",
    "    1. For example, a second layer of enumeration is possible\n",
    "\n",
    "Due to time constraints, we were not able to ensure all corner cases were handled. For example, here are a list of limitations that our code does NOT handle.\n",
    "\n",
    "1. combinations of enumerations and itemizations\n",
    "\n",
    "And possible other corner cases that we did not find in our testing."
   ]
  },
  {
   "cell_type": "markdown",
   "metadata": {},
   "source": [
    "# Conclusion\n",
    "We now have a tool that takes as input a Jupyter Notebook (an .ipynb file) and outputs a latex (.tex) file which has the same content as the jupyter notebook and is styled to the appropriate conference's format requirements. To prove its worth and usability, we wrote this report entirely using Jupyter2Tex.\n"
   ]
  },
  {
   "cell_type": "markdown",
   "metadata": {},
   "source": []
  }
 ],
 "metadata": {
  "kernelspec": {
   "display_name": "base",
   "language": "python",
   "name": "python3"
  },
  "language_info": {
   "codemirror_mode": {
    "name": "ipython",
    "version": 3
   },
   "file_extension": ".py",
   "mimetype": "text/x-python",
   "name": "python",
   "nbconvert_exporter": "python",
   "pygments_lexer": "ipython3",
   "version": "3.10.9"
  }
 },
 "nbformat": 4,
 "nbformat_minor": 2
}
